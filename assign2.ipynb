{
 "cells": [
  {
   "cell_type": "code",
   "execution_count": 8,
   "metadata": {},
   "outputs": [],
   "source": [
    "from langchain.chat_models import ChatOpenAI\n",
    "from langchain.prompts import FewShotChatMessagePromptTemplate, ChatPromptTemplate\n",
    "\n",
    "llm = ChatOpenAI(model=\"gpt-3.5-turbo\", temperature=0.1)"
   ]
  },
  {
   "cell_type": "code",
   "execution_count": 9,
   "metadata": {},
   "outputs": [],
   "source": [
    "examples = [{\n",
    "    \"title\":\n",
    "    \"Star Wars\",\n",
    "    \"director\":\n",
    "    \"George Lucas\",\n",
    "    \"actors\":\n",
    "    \"Mark Hamill, Harrison Ford, and Carrie Fisher\",\n",
    "    \"release_date\":\n",
    "    \"1977\",\n",
    "    \"budget\":\n",
    "    \"$11 million\",\n",
    "    \"box_office\":\n",
    "    \"$775.4 million\",\n",
    "    \"gerne\":\n",
    "    \"science fiction\",\n",
    "    \"synopsis\":\n",
    "    \"The film follows Luke Skywalker, Han Solo, and Princess Leia as they fight against the evil Galactic Empire.\",\n",
    "}, {\n",
    "    \"title\":\n",
    "    \"The Godfather\",\n",
    "    \"director\":\n",
    "    \"Francis Ford Coppola\",\n",
    "    \"actors\":\n",
    "    \"Marlon Brando, Al Pacino, and James Caan\",\n",
    "    \"release_date\":\n",
    "    \"1972\",\n",
    "    \"budget\":\n",
    "    \"$6 million\",\n",
    "    \"box_office\":\n",
    "    \"$286 million\",\n",
    "    \"gerne\":\n",
    "    \"crime\",\n",
    "    \"synopsis\":\n",
    "    \"The film follows the Corleone family as they navigate the world of organized crime.\",\n",
    "}, {\n",
    "    \"title\":\n",
    "    \"The Shawshank Redemption\",\n",
    "    \"director\":\n",
    "    \"Frank Darabont\",\n",
    "    \"actors\":\n",
    "    \"Tim Robbins and Morgan Freeman\",\n",
    "    \"release_date\":\n",
    "    \"1994\",\n",
    "    \"budget\":\n",
    "    \"$25 million\",\n",
    "    \"box_office\":\n",
    "    \"$58.3 million\",\n",
    "    \"gerne\":\n",
    "    \"drama\",\n",
    "    \"synopsis\":\n",
    "    \"The film follows Andy Dufresne, a banker who is wrongly convicted of gunning down his wife and her lover.\",\n",
    "}, {\n",
    "    \"title\":\n",
    "    \"Top Gun\",\n",
    "    \"director\":\n",
    "    \"Tony Scott\",\n",
    "    \"actors\":\n",
    "    \"Tom Cruise and Kelly McGillis\",\n",
    "    \"release_date\":\n",
    "    \"1986\",\n",
    "    \"budget\":\n",
    "    \"$15 million\",\n",
    "    \"box_office\":\n",
    "    \"$356.8 million\",\n",
    "    \"gerne\":\n",
    "    \"action\",\n",
    "    \"synopsis\":\n",
    "    \"The film follows Maverick, a young naval aviator who is sent to the Top Gun Naval Fighter Weapons School.\"\n",
    "}]\n",
    "example_prompt = ChatPromptTemplate.from_messages([(\n",
    "    \"human\",\n",
    "    \"{title}\",\n",
    "),\n",
    "                                                   (\"ai\", \"\"\"\n",
    "    Director: {director}\n",
    "    Actors: {actors}\n",
    "    Release Date: {release_date}\n",
    "    Budget: {budget}\n",
    "    Box Office: {box_office}\n",
    "    Genre: {gerne}\n",
    "    Synopsis: {synopsis}\n",
    "    \"\"\")])\n"
   ]
  },
  {
   "cell_type": "code",
   "execution_count": 11,
   "metadata": {},
   "outputs": [],
   "source": [
    "fewshot_prompt = FewShotChatMessagePromptTemplate(examples=examples,\n",
    "                                                  example_prompt=example_prompt)\n",
    "\n",
    "final_prompt = ChatPromptTemplate.from_messages(\n",
    "    [\n",
    "        ('system', 'You are a helpful AI Assistant'),\n",
    "        fewshot_prompt,\n",
    "        ('human', '{title}'),\n",
    "    ]\n",
    ")"
   ]
  },
  {
   "cell_type": "code",
   "execution_count": 13,
   "metadata": {},
   "outputs": [
    {
     "name": "stdout",
     "output_type": "stream",
     "text": [
      "\n",
      "    Director: Tim Miller\n",
      "    Actors: Ryan Reynolds, Morena Baccarin, and Ed Skrein\n",
      "    Release Date: 2016\n",
      "    Budget: $58 million\n",
      "    Box Office: $783.1 million\n",
      "    Genre: superhero, action, comedy\n",
      "    Synopsis: The film follows Wade Wilson, a former Special Forces operative turned mercenary who undergoes an experimental procedure to cure his cancer, which gives him accelerated healing powers but also disfigures him. He adopts the alter ego Deadpool and seeks revenge on the man who nearly destroyed his life.\n"
     ]
    }
   ],
   "source": [
    "chain = final_prompt | llm\n",
    "print(chain.invoke({\"title\": \"Deadpool\"}).content)"
   ]
  },
  {
   "cell_type": "code",
   "execution_count": null,
   "metadata": {},
   "outputs": [],
   "source": []
  }
 ],
 "metadata": {
  "kernelspec": {
   "display_name": "Python 3",
   "language": "python",
   "name": "python3"
  },
  "language_info": {
   "codemirror_mode": {
    "name": "ipython",
    "version": 3
   },
   "file_extension": ".py",
   "mimetype": "text/x-python",
   "name": "python",
   "nbconvert_exporter": "python",
   "pygments_lexer": "ipython3",
   "version": "3.11.10"
  }
 },
 "nbformat": 4,
 "nbformat_minor": 2
}
