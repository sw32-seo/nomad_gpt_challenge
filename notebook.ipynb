{
 "cells": [
  {
   "cell_type": "code",
   "execution_count": 2,
   "metadata": {},
   "outputs": [],
   "source": [
    "from langchain.chat_models import ChatOpenAI\n",
    "from langchain.prompts import ChatPromptTemplate\n",
    "\n",
    "chat = ChatOpenAI(model=\"gpt-3.5-turbo\", temperature=0.1)"
   ]
  },
  {
   "cell_type": "code",
   "execution_count": 4,
   "metadata": {},
   "outputs": [],
   "source": [
    "writing_prompt = ChatPromptTemplate.from_messages([\n",
    "    (\"system\", \n",
    "     \"\"\"\n",
    "You are the Haiku writing expert about programming languages. \n",
    "\n",
    "The user will give the name of a programming language.\n",
    "\n",
    "Write the Haiku about the given programming language.\n",
    "\"\"\"),\n",
    "(\"human\", \"Write the haiku about {language}\")\n",
    "])"
   ]
  },
  {
   "cell_type": "code",
   "execution_count": 16,
   "metadata": {},
   "outputs": [],
   "source": [
    "writing_chain = writing_prompt | chat"
   ]
  },
  {
   "cell_type": "code",
   "execution_count": 17,
   "metadata": {},
   "outputs": [
    {
     "name": "stdout",
     "output_type": "stream",
     "text": [
      "content=\"Indentation key,\\nPython's elegant syntax,\\nGuido's legacy.\"\n"
     ]
    }
   ],
   "source": [
    "print(writing_chain.invoke(input={\"language\": \"python\"}))"
   ]
  },
  {
   "cell_type": "code",
   "execution_count": 18,
   "metadata": {},
   "outputs": [
    {
     "name": "stdout",
     "output_type": "stream",
     "text": [
      "content=\"Rust's strong armor,\\nMemory safe, fearless code,\\nConcurrency thrives.\"\n"
     ]
    }
   ],
   "source": [
    "print(writing_chain.invoke(input={\"language\": \"rust\"}))"
   ]
  },
  {
   "cell_type": "code",
   "execution_count": 22,
   "metadata": {},
   "outputs": [],
   "source": [
    "explain_prompt = ChatPromptTemplate.from_messages([\n",
    "    (\"system\", \n",
    "     \"\"\"\n",
    "You are good at explaining haiku about programming language.\n",
    "When you get the haiku, show it first then, explain.\n",
    "Explain the given haiku below\n",
    "haiku:\n",
    "{haiku}\n",
    "     \"\"\")\n",
    "])"
   ]
  },
  {
   "cell_type": "code",
   "execution_count": 23,
   "metadata": {},
   "outputs": [],
   "source": [
    "explain_chain = explain_prompt | chat"
   ]
  },
  {
   "cell_type": "code",
   "execution_count": 24,
   "metadata": {},
   "outputs": [],
   "source": [
    "final_chain = {\"haiku\": writing_chain} | explain_chain"
   ]
  },
  {
   "cell_type": "code",
   "execution_count": 26,
   "metadata": {},
   "outputs": [
    {
     "name": "stdout",
     "output_type": "stream",
     "text": [
      "content='Elegant and clean,\\nPython slithers through code with\\nGrace and simplicity.\\n\\nExplanation:\\nThis haiku beautifully captures the essence of Python programming language. Python is known for its elegant and clean syntax, making it easy to read and write code. The imagery of Python \"slithering through code with grace and simplicity\" emphasizes how effortlessly Python can be used to solve complex problems with its straightforward and concise syntax.'\n"
     ]
    }
   ],
   "source": [
    "print(final_chain.invoke({\"language\": \"python\"}))"
   ]
  },
  {
   "cell_type": "code",
   "execution_count": null,
   "metadata": {},
   "outputs": [],
   "source": []
  }
 ],
 "metadata": {
  "kernelspec": {
   "display_name": "Python 3",
   "language": "python",
   "name": "python3"
  },
  "language_info": {
   "codemirror_mode": {
    "name": "ipython",
    "version": 3
   },
   "file_extension": ".py",
   "mimetype": "text/x-python",
   "name": "python",
   "nbconvert_exporter": "python",
   "pygments_lexer": "ipython3",
   "version": "3.11.10"
  }
 },
 "nbformat": 4,
 "nbformat_minor": 2
}
