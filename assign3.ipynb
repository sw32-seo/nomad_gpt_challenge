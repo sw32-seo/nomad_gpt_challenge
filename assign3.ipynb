{
 "cells": [
  {
   "cell_type": "code",
   "execution_count": 10,
   "metadata": {},
   "outputs": [],
   "source": [
    "from langchain.chat_models import ChatOpenAI\n",
    "from langchain.prompts import FewShotChatMessagePromptTemplate, ChatPromptTemplate, MessagesPlaceholder\n",
    "from langchain.schema.runnable import RunnablePassthrough\n",
    "from langchain.memory import ConversationBufferMemory\n",
    "\n",
    "llm = ChatOpenAI(model=\"gpt-3.5-turbo\", temperature=0.1)\n",
    "\n",
    "memory = ConversationBufferMemory(return_messages=True,\n",
    "                                  memory_key=\"chat_history\",\n",
    "                                  human_prefix=\"human\",\n",
    "                                  ai_prefix=\"ai\")\n",
    "\n",
    "examples = [\n",
    "    {\n",
    "        \"title\": \"Top Gun\",\n",
    "        \"emojis\": \"🛩️👨‍✈️🔥\"\n",
    "    },\n",
    "    {\n",
    "        \"title\": \"The Godfather\",\n",
    "        \"emojis\": \"👨‍👨‍👦🔫🍝\"\n",
    "    },\n",
    "    {\n",
    "        \"title\": \"The Matrix\",\n",
    "        \"emojis\": \"🕶️💊🤖\"\n",
    "    },\n",
    "    {\n",
    "        \"title\": \"The Lion King\",\n",
    "        \"emojis\": \"🦁👑🌅\"\n",
    "    },\n",
    "    {\n",
    "        \"title\": \"The Dark Knight\",\n",
    "        \"emojis\": \"🦇🃏💣\"\n",
    "    },\n",
    "]\n",
    "\n",
    "example_prompt = ChatPromptTemplate.from_messages([(\"system\", \"{title}\"),\n",
    "                                                   (\"system\", \"{emojis}\")])\n",
    "\n",
    "few_shot_prompt = FewShotChatMessagePromptTemplate(\n",
    "    examples=examples, example_prompt=example_prompt)\n",
    "\n",
    "final_prompt = ChatPromptTemplate.from_messages([\n",
    "    (\"system\",\n",
    "     \"You are a emoji movie bot. I will give you a movie title and you will respond with three emojis that represent the movie.\"\n",
    "     ), (\"system\", \"Here are some examples:\"), few_shot_prompt,\n",
    "    (\"system\", \"Now it's your turn!\"),\n",
    "    MessagesPlaceholder(variable_name=\"chat_history\"), (\"human\", \"{title}\")\n",
    "])\n",
    "\n",
    "\n",
    "def load_memory(_):\n",
    "    return memory.load_memory_variables({})[\"chat_history\"]\n",
    "\n",
    "\n",
    "chain = RunnablePassthrough.assign(\n",
    "    chat_history=load_memory) | final_prompt | llm\n",
    "\n",
    "\n",
    "def invoke_chain(title):\n",
    "    result = chain.invoke({\"title\": title})\n",
    "    memory.save_context({\"input\": title}, {\"output\": result.content})\n",
    "    print(result.content)"
   ]
  },
  {
   "cell_type": "code",
   "execution_count": 11,
   "metadata": {},
   "outputs": [
    {
     "name": "stdout",
     "output_type": "stream",
     "text": [
      "🦇🔥💥\n",
      "🦸‍♂️⚔️🔥\n"
     ]
    }
   ],
   "source": [
    "invoke_chain(\"The Dark Knight Rises\")\n",
    "invoke_chain(\"The Man of Steel\")"
   ]
  },
  {
   "cell_type": "code",
   "execution_count": 12,
   "metadata": {},
   "outputs": [
    {
     "name": "stdout",
     "output_type": "stream",
     "text": [
      "Your first input movie was \"The Dark Knight Rises.\"\n"
     ]
    }
   ],
   "source": [
    "invoke_chain(\"What was my first input movie?\")"
   ]
  },
  {
   "cell_type": "code",
   "execution_count": null,
   "metadata": {},
   "outputs": [],
   "source": []
  }
 ],
 "metadata": {
  "kernelspec": {
   "display_name": "Python 3",
   "language": "python",
   "name": "python3"
  },
  "language_info": {
   "codemirror_mode": {
    "name": "ipython",
    "version": 3
   },
   "file_extension": ".py",
   "mimetype": "text/x-python",
   "name": "python",
   "nbconvert_exporter": "python",
   "pygments_lexer": "ipython3",
   "version": "3.11.10"
  }
 },
 "nbformat": 4,
 "nbformat_minor": 2
}
